{
 "cells": [
  {
   "cell_type": "code",
   "execution_count": 1,
   "metadata": {},
   "outputs": [],
   "source": [
    "import drift_api\n",
    "import drift_struct\n",
    "import datetime\n",
    "import calendar # get the number of days every month\n",
    "from netCDF4 import Dataset"
   ]
  },
  {
   "cell_type": "markdown",
   "metadata": {},
   "source": [
    "# coordinate transform"
   ]
  },
  {
   "cell_type": "code",
   "execution_count": 24,
   "metadata": {},
   "outputs": [],
   "source": [
    "# ===============\n",
    "# default constant for coordinate transform\n",
    "# ===============\n",
    "EARTH_R = 6371.228 # Radius of the Earth (unit:km) ~ 6371.228 km\n",
    "RES_625 = 62.5 # Ease-grid nominal resolution (unit:km) = 25 km\n",
    "R0 = -20.375080430740987 # Map origin column\n",
    "S0 = 96.78170292082865 # Map origin row\n",
    "PRECISION = 1e-4 # coordinate transform precision\n",
    "\n",
    "# ===============\n",
    "# tansfer lon-lat coordinate to r-s (x-y) cooradinate\n",
    "# ===============\n",
    "# input:\n",
    "#   lon : longitude (unit: Radians)\n",
    "#   lat : latitude (unit: Radians)\n",
    "#   R : earth radius (unit: km) DEFAULT = EARTH_R\n",
    "#   C : resolution (unit: km) DEFAULT = RES\n",
    "#   R0 : map origin column (unit: km) CONSTANT\n",
    "#   S0 : map origin row (unit: km) CONSTANT\n",
    "# output:\n",
    "#   r : column coordinate (unit: None) x \n",
    "#   s : row coordinate (unit: None) (negative) y\n",
    "def rs_transform(lat, lon, R=EARTH_R, C=RES_625, r0=R0, s0=S0):\n",
    "    r = 2*R/C * np.sin(lon) * np.sin(np.pi/4 - lat/2) + r0\n",
    "    s = 2*R/C * np.cos(lon) * np.sin(np.pi/4 - lat/2) + s0\n",
    "    return r, -s\n",
    "\n",
    "# input:\n",
    "#   X: Polar Stereographic X Coordinate (km)\n",
    "#   Y: Polar Stereographic Y Coordinate (km)\n",
    "# output:\n",
    "#   ALAT: Geodetic Latitude (degrees, +90 to -90)\n",
    "#   ALONG: Geodetic Longitude (degrees, 0 to 360)\n",
    "\n",
    "# SLAT: Standard latitude for the SSM/I grids is 70 degrees.\n",
    "# SGN: Sign of the latitude (positive = north latitude, negative = south latitude)\n",
    "def transform_to_latlon(X, Y, SLAT=70, SGN=1):\n",
    "    # conversion constant\n",
    "    CDR = 57.29577951\n",
    "    # Eccentricity squared\n",
    "    E2 = 0.006693883\n",
    "    E = np.sqrt(E2)\n",
    "    # Radius of the earth in kilometers\n",
    "    RE = 6371.228\n",
    "    PI = 3.141592654\n",
    "    SL = SLAT*PI/180\n",
    "    RHO = np.sqrt(X**2+Y**2)\n",
    "    if (RHO > 0.1):\n",
    "        CM = np.cos(SL)/np.sqrt(1.0-E2*(np.sin(SL)**2))\n",
    "        T = np.tan((PI/4.0)-(SL/(2.0))) / ((1.0-E*np.sin(SL)) / \\\n",
    "        (1.0+E*np.sin(SL)))**(E/2.0)\n",
    "        if (np.abs(SLAT-90) < 1e-5):\n",
    "            T = RHO * np.sqrt((1+E)**(1+E)*(1-E)**(1-E))/(2*RE)\n",
    "        else:\n",
    "            T = RHO * T / (RE*CM)\n",
    "        CHI = (PI/2.0) - 2.0*np.arctan(T)\n",
    "        ALAT = CHI + ((E2/2.0)+(5.0*E2**2.0/24.0)+(E2**3.0/12.0))*np.sin(2*CHI)+  \\\n",
    "        ((7.0*E2**2.0/48.0)+(29.0*E2**3/240.0))*np.sin(4.0*CHI)+ \\\n",
    "        (7.0*E2**3.0/120.0)*np.sin(6.0*CHI)\n",
    "        ALAT = SGN * ALAT\n",
    "        ALONG = np.arctan2(SGN*X,-SGN*Y)\n",
    "        ALONG = SGN*ALONG\n",
    "    else:\n",
    "        ALAT = 90.0*SGN\n",
    "        ALONG = 0.0\n",
    "    lat = ALAT*180/np.pi\n",
    "    lon = ALONG*180/np.pi\n",
    "    # longitude rotate 45 degree clockwise\n",
    "    if (-180<=lon<-135):\n",
    "        lon = 180 - (45-(180+lon))\n",
    "    else:\n",
    "        lon -= 45\n",
    "    return lat, lon"
   ]
  },
  {
   "cell_type": "markdown",
   "metadata": {
    "heading_collapsed": true
   },
   "source": [
    "# read 62.5km data"
   ]
  },
  {
   "cell_type": "code",
   "execution_count": 4,
   "metadata": {
    "hidden": true
   },
   "outputs": [],
   "source": [
    "# calculate velocity\n",
    "def get_velocity(dx, dy, mask_x = None, mask_y = None, dt=24*3600):\n",
    "    xsize = dx[0,:].size\n",
    "    ysize = dx[:,0].size\n",
    "    u = np.zeros([ysize,xsize])\n",
    "    v = np.zeros([ysize,xsize])\n",
    "    dx = np.ma.array(dx,mask=mask_x)\n",
    "    dy = np.ma.array(dy,mask=mask_y)\n",
    "    u = dx / dt\n",
    "    v = dy / dt\n",
    "    return u, v\n",
    "\n",
    "# file defalut and prefix\n",
    "PATH_625 = '../osisaf.met.no/archive/ice/drift_lr/merged/'\n",
    "PREFIX = 'ice_drift_nh_polstere-625_multi-oi_'\n",
    "\n",
    "# read one year data\n",
    "def read_grid_nc_625km_year(year,path=PATH_625):\n",
    "    # read grid info (same info for all nc files)\n",
    "    ncfile = Dataset(path+str(year)+'/12/'+PREFIX+str(year)+'12291200-'+str(year)+'12311200.nc')\n",
    "    xc = ncfile.variables['xc'][:]\n",
    "    yc = ncfile.variables['yc'][:]\n",
    "    lat = ncfile.variables['lat'][:,:] # lat[177,119] : latitude of grid point (unit: degree)\n",
    "    lon = ncfile.variables['lon'][:,:] # lon[177,119] : longitude of grid point (unit: degree) \n",
    "    # read 12 months velocity data\n",
    "    u = []\n",
    "    v = []\n",
    "    for m in range(1,13,1):\n",
    "        # get the number of days every month\n",
    "        monthRange = calendar.monthrange(year,m)\n",
    "        days = monthRange[1]\n",
    "        # read daily data\n",
    "        for d in range(1,days+1,1):\n",
    "            # get date\n",
    "            date=datetime.date(year,m,d)\n",
    "            delay = datetime.timedelta(days=-2)\n",
    "            date_start = date + delay\n",
    "            # transfer to string\n",
    "            date_start_str = date_start.strftime('%Y%m%d')\n",
    "            date_str = date.strftime('%Y%m%d')\n",
    "            year_str = date.strftime('%Y')\n",
    "            month_str = date.strftime('%m') # 01,02,03...\n",
    "            # get file name\n",
    "            filename = PREFIX+date_start_str+'1200-'+date_str+'1200.nc'\n",
    "            # read data\n",
    "            try:\n",
    "                ncfile = Dataset(path+year_str+'/'+month_str+'/'+filename)\n",
    "            except:\n",
    "                print('Warning! No Such File! Skip it: \\n'+filename)\n",
    "            else:\n",
    "                # save data\n",
    "                dX = ncfile.variables['dX'][0,:,:]*1000 # dX_20[379,559] x-axis displacement of ice (unit: km) FILL_VALUE = NaN\n",
    "                dY = ncfile.variables['dY'][0,:,:]*1000 # dY_20[379,559] y-axis displacement of ice (unit: km) FILL_VALUE = NaN\n",
    "                # calculate veloctiy (m/s)\n",
    "                u_daily, v_daily = get_velocity(dx=dX,dy=dY)\n",
    "                u.append(u_daily)\n",
    "                v.append(v_daily)\n",
    "    # transform list to array\n",
    "    u = np.array(u)\n",
    "    v = np.array(v)\n",
    "    mask_u = (u==-1.0e10) # -- will change to -1.0e10 when transform list to array\n",
    "    mask_v = (v==-1.0e10)\n",
    "    u = np.ma.array(u,mask=mask_u)\n",
    "    v = np.ma.array(v,mask=mask_v)\n",
    "    # generate grid struct\n",
    "    grid_info = drift_struct.grid(xc,yc,lat,lon,u,v,res=62.5)\n",
    "    return grid_info\n",
    "\n",
    "# read 2 years data and save in one grid struct\n",
    "def read_grid_nc_625km(year1,year2,path=PATH_625):\n",
    "    # read two years data\n",
    "    grid_1 = read_grid_nc_625km_year(year1,path)\n",
    "    grid_2 = read_grid_nc_625km_year(year2,path)\n",
    "    # save 2-year velocity data (unit: m/s)\n",
    "    u1 = grid_1.u\n",
    "    u2 = grid_2.u\n",
    "    v1 = grid_1.v\n",
    "    v2 = grid_2.v\n",
    "    # merge\n",
    "    u = np.concatenate((u1,u2),axis=0)\n",
    "    v = np.concatenate((v1,v2),axis=0)\n",
    "    # read other info\n",
    "    xc = grid_1.xc\n",
    "    yc = grid_1.yc\n",
    "    lat = grid_1.lat\n",
    "    lon = grid_1.lon\n",
    "    # generate grid struct\n",
    "    grid_info = drift_struct.grid(xc,yc,lat,lon,u,v,res=62.5)\n",
    "    return grid_info"
   ]
  },
  {
   "cell_type": "markdown",
   "metadata": {},
   "source": [
    "# read 62.5km data test"
   ]
  },
  {
   "cell_type": "code",
   "execution_count": 5,
   "metadata": {},
   "outputs": [],
   "source": [
    "grid_625km_2018 = read_grid_nc_625km_year(2018)"
   ]
  },
  {
   "cell_type": "code",
   "execution_count": 6,
   "metadata": {},
   "outputs": [
    {
     "name": "stdout",
     "output_type": "stream",
     "text": [
      "(365, 177, 119)\n",
      "[-- -- -- -- -- -- -- -- -- -- -- -- -- -- -- -- -- -- -- -- -- -- -- --\n",
      " -- -- -- 0.012688724376537182 0.0338875890661169 0.0264518059624566\n",
      " 0.018723862259476275 0.010324371479175708 -0.04103153370044849\n",
      " -0.06744000470196759 -0.06536346435546875 -0.08058839586046007\n",
      " -0.09404746726707176 -0.10307288275824653 -0.13548434787326388\n",
      " -0.10773679380063657 -0.09277282149703414 -0.0771013500072338\n",
      " -0.06945688318323207 -0.050831767894603586 -0.0361082684552228\n",
      " -0.006808046411584925 0.010601748007315177 0.01727036511456525\n",
      " 0.010592356081362124 0.02413783038104022 0.01815028014006438\n",
      " 0.008265368850142868 0.014658268116138599 0.04073770593713831\n",
      " 0.03885416949236834 0.04371373494466146 0.044057651095920136\n",
      " 0.03240659360532407 0.029771652221679688 0.034583779794198494\n",
      " 0.03654230753580729 0.033623597886827256 0.03140228554054543\n",
      " 0.038755382961697046 0.04520591170699508 0.04386718467429832\n",
      " 0.036251791494864 0.033446135344328706 0.02330926259358724\n",
      " 0.002093593102914316 -0.0028899143360279224 0.005718103338170934\n",
      " 0.011035144240767868 -- -- -- -- -- 0.04599542971010561 -- -- -- -- -- --\n",
      " -- -- -- -- -- -- -- -- -- -- -- -- -- -- -- -- -- -- -- -- -- -- -- --\n",
      " -- -- -- -- -- -- -- -- -- --]\n"
     ]
    }
   ],
   "source": [
    "u_625km_2018 = grid_625km_2018.u\n",
    "print(np.shape(u_625km_2018))\n",
    "print(u_625km_2018[0,88,:])"
   ]
  },
  {
   "cell_type": "code",
   "execution_count": 8,
   "metadata": {},
   "outputs": [
    {
     "name": "stdout",
     "output_type": "stream",
     "text": [
      "Warning! No Such File! Skip it: \n",
      "ice_drift_nh_polstere-625_multi-oi_201505131200-201505151200.nc\n",
      "(730, 177, 119)\n",
      "[-3750.  -3687.5 -3625.  -3562.5 -3500.  -3437.5 -3375.  -3312.5 -3250.\n",
      " -3187.5 -3125.  -3062.5 -3000.  -2937.5 -2875.  -2812.5 -2750.  -2687.5\n",
      " -2625.  -2562.5 -2500.  -2437.5 -2375.  -2312.5 -2250.  -2187.5 -2125.\n",
      " -2062.5 -2000.  -1937.5 -1875.  -1812.5 -1750.  -1687.5 -1625.  -1562.5\n",
      " -1500.  -1437.5 -1375.  -1312.5 -1250.  -1187.5 -1125.  -1062.5 -1000.\n",
      "  -937.5  -875.   -812.5  -750.   -687.5  -625.   -562.5  -500.   -437.5\n",
      "  -375.   -312.5  -250.   -187.5  -125.    -62.5     0.     62.5   125.\n",
      "   187.5   250.    312.5   375.    437.5   500.    562.5   625.    687.5\n",
      "   750.    812.5   875.    937.5  1000.   1062.5  1125.   1187.5  1250.\n",
      "  1312.5  1375.   1437.5  1500.   1562.5  1625.   1687.5  1750.   1812.5\n",
      "  1875.   1937.5  2000.   2062.5  2125.   2187.5  2250.   2312.5  2375.\n",
      "  2437.5  2500.   2562.5  2625.   2687.5  2750.   2812.5  2875.   2937.5\n",
      "  3000.   3062.5  3125.   3187.5  3250.   3312.5  3375.   3437.5  3500.\n",
      "  3562.5  3625. ]\n"
     ]
    }
   ],
   "source": [
    "grid_625km = read_grid_nc_625km(2015,2016)\n",
    "u = grid_625km.u\n",
    "print(np.shape(u))\n",
    "print(grid_625km.xc)"
   ]
  },
  {
   "cell_type": "markdown",
   "metadata": {},
   "source": [
    "# coordinate transform test"
   ]
  },
  {
   "cell_type": "code",
   "execution_count": 26,
   "metadata": {},
   "outputs": [
    {
     "name": "stdout",
     "output_type": "stream",
     "text": [
      "31.907089030940554 168.11134196037202\n",
      "34.888589377867355 -80.53767779197437\n",
      "35.41553868690079 -169.62415507994893\n",
      "32.38859887170266 102.77124256490146\n"
     ]
    }
   ],
   "source": [
    "xc = grid_625km.xc\n",
    "yc = grid_625km.yc\n",
    "\n",
    "lati, lonj = transform_to_latlon(xc[0],yc[0])\n",
    "print(lati,lonj)\n",
    "\n",
    "lati, lonj = transform_to_latlon(xc[0],yc[176])\n",
    "print(lati,lonj)\n",
    "\n",
    "lati, lonj = transform_to_latlon(xc[118],yc[176])\n",
    "print(lati,lonj)\n",
    "\n",
    "lati, lonj = transform_to_latlon(xc[118],yc[0])\n",
    "print(lati,lonj)"
   ]
  },
  {
   "cell_type": "code",
   "execution_count": null,
   "metadata": {},
   "outputs": [],
   "source": []
  }
 ],
 "metadata": {
  "kernelspec": {
   "display_name": "Python 3",
   "language": "python",
   "name": "python3"
  },
  "language_info": {
   "codemirror_mode": {
    "name": "ipython",
    "version": 3
   },
   "file_extension": ".py",
   "mimetype": "text/x-python",
   "name": "python",
   "nbconvert_exporter": "python",
   "pygments_lexer": "ipython3",
   "version": "3.7.1"
  },
  "latex_envs": {
   "LaTeX_envs_menu_present": true,
   "autoclose": false,
   "autocomplete": true,
   "bibliofile": "biblio.bib",
   "cite_by": "apalike",
   "current_citInitial": 1,
   "eqLabelWithNumbers": true,
   "eqNumInitial": 1,
   "hotkeys": {
    "equation": "Ctrl-E",
    "itemize": "Ctrl-I"
   },
   "labels_anchors": false,
   "latex_user_defs": false,
   "report_style_numbering": false,
   "user_envs_cfg": false
  },
  "varInspector": {
   "cols": {
    "lenName": 16,
    "lenType": 16,
    "lenVar": 40
   },
   "kernels_config": {
    "python": {
     "delete_cmd_postfix": "",
     "delete_cmd_prefix": "del ",
     "library": "var_list.py",
     "varRefreshCmd": "print(var_dic_list())"
    },
    "r": {
     "delete_cmd_postfix": ") ",
     "delete_cmd_prefix": "rm(",
     "library": "var_list.r",
     "varRefreshCmd": "cat(var_dic_list()) "
    }
   },
   "types_to_exclude": [
    "module",
    "function",
    "builtin_function_or_method",
    "instance",
    "_Feature"
   ],
   "window_display": false
  }
 },
 "nbformat": 4,
 "nbformat_minor": 2
}
